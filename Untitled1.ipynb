{
 "cells": [
  {
   "cell_type": "markdown",
   "id": "89087eeb-f7d5-48be-ac97-3a068c901bcc",
   "metadata": {},
   "source": [
    "# **Modern Portfolio Theory**"
   ]
  },
  {
   "cell_type": "markdown",
   "id": "98f1bb37-1e79-4700-89f6-746188219a49",
   "metadata": {},
   "source": [
    "## **Introduction**"
   ]
  },
  {
   "cell_type": "markdown",
   "id": "f152de78-84a3-47fa-8ae4-f3d6f45b93bf",
   "metadata": {},
   "source": [
    "*The aim of this project is to perform an in-depth analysis assosiated with the assumptions of `Modern Portfolio Theory` and\n",
    "how financial assets interact within the portfolio using sttistical methods*\n",
    "\n",
    "*`Harry Markowitz` introduced the mean-varinace portfolio selection theory in 1952.Since then the Modern Porfolio theory is \n",
    "cornerstone in the field of modern finance*"
   ]
  },
  {
   "cell_type": "markdown",
   "id": "72799147-2346-4d9d-acb9-289e0a53b74a",
   "metadata": {},
   "source": [
    "## **Data**"
   ]
  },
  {
   "cell_type": "markdown",
   "id": "4458bc3a-17b4-463a-9b72-f45a5755b561",
   "metadata": {},
   "source": [
    "*Twelve stock quoted on NYSE are used for the purpose of analysis. The data is between the period of 1st January 2008 to 31st \n",
    "December 2017. The data is downloaded using `Twelvedata API` in the `json` format. The stocks are divident adjusted*\n",
    "\n",
    "|Company| Symbol|\n",
    "|---|---|\n",
    "|Apple Inc| AAPL|\n",
    "|American Express Co| AXP|\n",
    "|Boeing Co |BA|\n",
    "|General Electric| GE|\n",
    "|Johnson & Johnson| JNJ|\n",
    "|JPMorgan Chase & Co| JPM|\n",
    "|Coca-Cola Co| KO|\n",
    "|McDonald's Corp| MCD|\n",
    "|Microsoft Corp| MSFT|\n",
    "|Verizon Communications Inc| VZ|\n",
    "|Walmart Inc |WMT|\n",
    "|Exxon Mobil Corp| XOM|"
   ]
  },
  {
   "cell_type": "markdown",
   "id": "2b06b425-21fc-4462-bc50-7eef7ae62652",
   "metadata": {},
   "source": [
    "## **Daily Return** "
   ]
  },
  {
   "cell_type": "markdown",
   "id": "fba87eb1-456b-4b8d-86c0-714d46f96275",
   "metadata": {},
   "source": [
    "*We calculate the daily change in prices of stock using the given formulae*\n",
    "\n",
    "$r_{asset} = \\frac{P_t - P_{t-1}}{P_{t-1}}\\times100$\n",
    "\n",
    "*where*\n",
    "\n",
    "$P_t$ *is present value of adjusted close price of individual stock*\n",
    "\n",
    "$P_{t-1}$ *is previous day adjusted close price of individual stock*\n",
    "\n",
    "$r_{asset}$ *daily return on assest*"
   ]
  },
  {
   "cell_type": "markdown",
   "id": "3b641017-9d30-457f-a1e6-d524d58dbb16",
   "metadata": {},
   "source": [
    "### **Independent Returns**"
   ]
  },
  {
   "cell_type": "markdown",
   "id": "a7400cdc-edca-4757-aa29-0de757943c57",
   "metadata": {},
   "source": [
    "*According to `Random Walk Theory` stock price change are independent of past movement trends and therefore next day price cannot\n",
    "be `predicted` from previous price changes*\n",
    "\n",
    "*We plot a simple `scatterplot` for our twelve assets where we compare the previous day return against the present value and it\n",
    "shows absolutely `no correlation` for any of the assets which proves the assmption to be true*"
   ]
  },
  {
   "cell_type": "markdown",
   "id": "d3adfc36-dba0-4d53-b0d3-d3c3b2920520",
   "metadata": {},
   "source": [
    "### **Distribution of Returns**"
   ]
  },
  {
   "cell_type": "markdown",
   "id": "63628661-e510-4b65-a22d-e5c8e15b98f3",
   "metadata": {},
   "source": [
    "*The daily return on assets are collected and represented in the form of `histogram` given in the figure below, from initial analysis \n",
    "it seems that most of the stocks closely resemble `normal distribution`. Most of these returns are `concentrated` towards the `mean` \n",
    "value but a small portion of these return are scattered at the end of the distribution showing few days where there is `large swing` in price*"
   ]
  },
  {
   "cell_type": "markdown",
   "id": "f11a914a-c271-4d69-8003-175a1c758a25",
   "metadata": {},
   "source": [
    "### **Normal Assumption**"
   ]
  },
  {
   "cell_type": "markdown",
   "id": "060202ed-6c3e-4789-93dd-442e4b9590e6",
   "metadata": {},
   "source": [
    "*By visualizing the distribution of returns against the normal distribution we conclude that most of the securities have returns\n",
    "near the mean value and `approximately` follows `normal` distribution but the returns at the `tails deviate` from this behaviour. \n",
    "The presence of these `fat tails` due to extreme deviations which normal disrtibution fails to capture and if used can sometimes\n",
    "`underestimates` the `risk` assosiated with the security*"
   ]
  },
  {
   "cell_type": "markdown",
   "id": "3c393594-9d42-44ce-a03d-1cfb72f154d1",
   "metadata": {},
   "source": [
    "### **Mean Return**"
   ]
  },
  {
   "cell_type": "code",
   "execution_count": null,
   "id": "c36d6dfe-7aca-434a-b8b0-72e1952853f6",
   "metadata": {},
   "outputs": [],
   "source": []
  },
  {
   "cell_type": "markdown",
   "id": "9fb1a38d-49f2-4b3b-9f1c-07b6d01e916e",
   "metadata": {},
   "source": [
    "## **Risk**"
   ]
  },
  {
   "cell_type": "markdown",
   "id": "80c525d4-4e56-45ff-8eb8-975f79506f48",
   "metadata": {},
   "source": [
    "*In the context of finance the risk can be defined as the `uncertainty` in the market. Mathematically it\n",
    "can defined as the `deviation` away from the expected `historical returns` during a particular time\n",
    "period. A more preferred definition in our context of our analysis is the `degree of making loss` on\n",
    "a potential investment.There are several statistical methods use to measure financial risk*"
   ]
  },
  {
   "cell_type": "markdown",
   "id": "54a0106f-180f-439f-a8fc-b5753ceec34a",
   "metadata": {},
   "source": [
    "### **Standard Deviation**"
   ]
  },
  {
   "cell_type": "markdown",
   "id": "14a09bff-4271-4937-bc17-95b48b983a8b",
   "metadata": {},
   "source": [
    "*Standard Deviation is the most commonly employed method for calculating financial risk. It can be expressed as.*\n",
    "\n",
    "$sd_{asset} = \\sqrt{\\frac{\\sum_(x_i - \\mu)^2}{N}}$\n",
    "\n",
    "where\n",
    "\n",
    "$N$ is the total number of daily returns observed,\n",
    "\n",
    "$x_i$ is daily observed return,\n",
    "\n",
    "$\\mu$ is mean return observed during N days."
   ]
  },
  {
   "cell_type": "markdown",
   "id": "1cacefe4-5b3c-4cdb-83f6-2229afadc546",
   "metadata": {},
   "source": [
    "*The `greater` the Standard Deviation of the security the `more risky` the asset is (in relative terms). The\n",
    "Standard Deviation calculates the `historical volatility` of the security, greater the `dispersion` from the\n",
    "`mean` value indicates more `volatile` asset. From the table we can observe that JNJ is least risky asset\n",
    "with standard deviation of 1.0321% while JPM is the most risky asset with standard deviation of\n",
    "2.733%.*"
   ]
  },
  {
   "cell_type": "markdown",
   "id": "186ec54b-1ab3-4abf-bb31-7c03b98b1518",
   "metadata": {},
   "source": [
    "### **Volatility Clustering**"
   ]
  },
  {
   "cell_type": "markdown",
   "id": "564bef3c-68fb-4dcf-a5a2-42a33f431fd0",
   "metadata": {},
   "source": [
    "*A more `preferable` method is using the `daily volatility` clustering technique which helps in `visualizing` the volatility at\n",
    "`specific` periods in time.From Figure we can observe that the period between the year `2008 to 2010` was extremely volatile\n",
    "period due to rapid change in the stock prices from their mean value, the contributing factor for this\n",
    "rapid movement was in response to the `subprime mortgage crises` in US due to which their was a\n",
    "large scale financial panic in the market. After the `US government` intervened in the financial\n",
    "markets to calm `down` the rapid volatility in the market, the price movement started to become less\n",
    "intense.*"
   ]
  },
  {
   "cell_type": "markdown",
   "id": "557ccebd-efa6-4c0f-b52d-8df6865e1dfa",
   "metadata": {},
   "source": [
    "### **Correlation among assets**"
   ]
  },
  {
   "cell_type": "markdown",
   "id": "ca9284b3-fb98-4288-9b91-4cb1d6fa4175",
   "metadata": {},
   "source": [
    "*Markowitz (1952) argued that the `individual` risk pertaining to an asset is `not` as much important as the `contribution` of risk \n",
    "from `each` asset to the aggregate portfolio.In the financial markets only those `risk` are `compensated` that `cannot` be avoided.*\n",
    "\n",
    "*In the financial market no two financial assets are either completely correlated or completely\n",
    "independent of each other, to some degree each asset is `interrelated` to the `movement` of the prices of\n",
    "another asset , some assets have very high degree of co-movement while some have less exposure to\n",
    "each other. The Modern Portfolio Theory attempts to analyze the `interrelationship` between different\n",
    "investments. It utilizes statistical measures such as `correlation` to quantify the diversification effect\n",
    "on portfolio*\n",
    "\n",
    "*The extent to which the risk of the portfolio can be reduced largely depends on the `covariance`\n",
    "between different assets. Portfolio assets which have `low` correlation coefficients are considered to\n",
    "be `less` risky than pairs with high coefficients*\n",
    "\n",
    "*Within the portfolio of`N` assets there are N variances and `N(N-1)` covariance. As the number of\n",
    "assets in the portfolio increases the number of covariance `increases` rapidly. This large number of\n",
    "covariance are very `important`towards determining the risk of the portfolio.*"
   ]
  },
  {
   "cell_type": "markdown",
   "id": "f1e704fe-5cd3-4d65-a2c2-6e7115ab333b",
   "metadata": {},
   "source": [
    "*In the Figure  we can observe that at the start of the year `2008` the correlation among the assets\n",
    "were `low`as the `crises` took of , the correlation start to become `stronger` between the various `pairs` of\n",
    "asset. In the year between `2009` and `2013` we can see a high correlation among the assets which can\n",
    "be attributed to the `increase` in `systematic risk` due to `panic` in the US financial industry. After 2013\n",
    "the correlation among the pairs of asset start to `decline` due to decrease in systematic risk. During the time of financial \n",
    "stress the correlation among the pairs of the portfolio becomes very `high` due to intense `volatility` in the market.*"
   ]
  },
  {
   "cell_type": "markdown",
   "id": "744b4413-5bff-449a-b3ea-4ee08258ab9a",
   "metadata": {},
   "source": [
    "## **Sharpe Ratio**"
   ]
  },
  {
   "cell_type": "code",
   "execution_count": null,
   "id": "e6f87e04-7d17-4da4-8044-19b237913980",
   "metadata": {},
   "outputs": [],
   "source": []
  }
 ],
 "metadata": {
  "kernelspec": {
   "display_name": "Python 3 (ipykernel)",
   "language": "python",
   "name": "python3"
  },
  "language_info": {
   "codemirror_mode": {
    "name": "ipython",
    "version": 3
   },
   "file_extension": ".py",
   "mimetype": "text/x-python",
   "name": "python",
   "nbconvert_exporter": "python",
   "pygments_lexer": "ipython3",
   "version": "3.9.11"
  }
 },
 "nbformat": 4,
 "nbformat_minor": 5
}
